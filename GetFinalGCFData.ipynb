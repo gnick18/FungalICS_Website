{
 "cells": [
  {
   "attachments": {},
   "cell_type": "markdown",
   "metadata": {},
   "source": [
    "## Item 1: The list of species in a given GCF"
   ]
  },
  {
   "cell_type": "code",
   "execution_count": 5,
   "metadata": {},
   "outputs": [],
   "source": [
    "import os \n",
    "import pandas as pd\n",
    "import pdb \n",
    "import json\n",
    "\n",
    "gcfTable_rootDir = r'/Users/gnickles/Desktop/FungalICS_Website/Data/GCFTables'\n",
    "speciesInGCFs = {}\n",
    "#looping over each GCF table's summary tsv\n",
    "for file in os.listdir(gcfTable_rootDir):\n",
    "    filePath = os.path.join(gcfTable_rootDir, file)\n",
    "    if not file.startswith(\".\") and file.endswith('.tsv'):\n",
    "        gcfDF = pd.read_csv(filePath, sep='\\t')\n",
    "        #getting the gcf name\n",
    "        if \"Refined\" in file:\n",
    "            gcfName = file.split(\"_Re\")[0]\n",
    "        else:\n",
    "            gcfName = file.split('.t')[0]\n",
    "        #\n",
    "        gcfDF['Species'] = gcfDF['Cluster_Name'].str.split(\"_\", n=1).str[1]\n",
    "        speciesList = gcfDF['Species'].unique().tolist()\n",
    "        speciesInGCFs[gcfName] = speciesList\n",
    "\n",
    "#saving this as a json file\n",
    "output_file = r'/Users/gnickles/Desktop/FungalICS_Website/Data/GCFSpecies.json'\n",
    "with open(output_file, \"w\") as file:\n",
    "    json.dump(speciesInGCFs, file)"
   ]
  },
  {
   "attachments": {},
   "cell_type": "markdown",
   "metadata": {},
   "source": [
    "## Item 2: Adding in the extra plots for the refined GCFs"
   ]
  },
  {
   "cell_type": "code",
   "execution_count": null,
   "metadata": {},
   "outputs": [],
   "source": []
  },
  {
   "attachments": {},
   "cell_type": "markdown",
   "metadata": {},
   "source": [
    "## Item 3: Adding in the consensus prediction information for those that I have that for"
   ]
  },
  {
   "cell_type": "markdown",
   "metadata": {},
   "source": []
  }
 ],
 "metadata": {
  "kernelspec": {
   "display_name": "Seaborn",
   "language": "python",
   "name": "python3"
  },
  "language_info": {
   "codemirror_mode": {
    "name": "ipython",
    "version": 3
   },
   "file_extension": ".py",
   "mimetype": "text/x-python",
   "name": "python",
   "nbconvert_exporter": "python",
   "pygments_lexer": "ipython3",
   "version": "3.9.16"
  },
  "orig_nbformat": 4
 },
 "nbformat": 4,
 "nbformat_minor": 2
}
