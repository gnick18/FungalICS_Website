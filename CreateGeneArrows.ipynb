{
 "cells": [
  {
   "attachments": {},
   "cell_type": "markdown",
   "metadata": {},
   "source": [
    "# Code to generate the arrow plots!\n",
    "\n",
    "Testing to get the plots just right. I'll load in a single file, and make some of the subfunctions to do this"
   ]
  },
  {
   "cell_type": "code",
   "execution_count": 32,
   "metadata": {},
   "outputs": [],
   "source": [
    "from dna_features_viewer import GraphicFeature, GraphicRecord\n",
    "import bokeh\n",
    "from bokeh.plotting import figure, output_file, save, show\n",
    "from bokeh.io import output_notebook\n",
    "import matplotlib.pyplot as plt\n",
    "import matplotlib.font_manager\n",
    "from matplotlib.patches import Patch\n",
    "from matplotlib.lines import Line2D\n",
    "import pandas as pd\n",
    "import os\n",
    "import pdb\n",
    "from bokeh.embed import file_html\n",
    "from bokeh.resources import CDN"
   ]
  },
  {
   "cell_type": "code",
   "execution_count": 23,
   "metadata": {},
   "outputs": [
    {
     "ename": "SyntaxError",
     "evalue": "invalid syntax (2618925454.py, line 1)",
     "output_type": "error",
     "traceback": [
      "\u001b[0;36m  Cell \u001b[0;32mIn[23], line 1\u001b[0;36m\u001b[0m\n\u001b[0;31m    bokeh info\u001b[0m\n\u001b[0m          ^\u001b[0m\n\u001b[0;31mSyntaxError\u001b[0m\u001b[0;31m:\u001b[0m invalid syntax\n"
     ]
    }
   ],
   "source": []
  },
  {
   "cell_type": "code",
   "execution_count": 16,
   "metadata": {},
   "outputs": [
    {
     "data": {
      "text/plain": [
       "0    ID=gene-PMAA_034170;Name=PMAA_034170;end_range...\n",
       "1    ID=rna-PMAA_034170;Parent=gene-PMAA_034170;Not...\n",
       "2    ID=exon-PMAA_034170-1;Parent=rna-PMAA_034170;N...\n",
       "3    ID=cds-EEA28616.1;Parent=rna-PMAA_034170;Dbxre...\n",
       "4    ID=gene-PMAA_034180;Name=PMAA_034180;gbkey=Gen...\n",
       "Name: info, dtype: object"
      ]
     },
     "execution_count": 16,
     "metadata": {},
     "output_type": "execute_result"
    }
   ],
   "source": [
    "gffDF.iloc[0:5,8]"
   ]
  },
  {
   "cell_type": "code",
   "execution_count": 18,
   "metadata": {},
   "outputs": [
    {
     "ename": "IndentationError",
     "evalue": "expected an indented block (457761832.py, line 31)",
     "output_type": "error",
     "traceback": [
      "\u001b[0;36m  Cell \u001b[0;32mIn[18], line 31\u001b[0;36m\u001b[0m\n\u001b[0;31m    if\u001b[0m\n\u001b[0m    ^\u001b[0m\n\u001b[0;31mIndentationError\u001b[0m\u001b[0;31m:\u001b[0m expected an indented block\n"
     ]
    }
   ],
   "source": [
    "gffBGC = r'/Users/gnickles/Desktop/FungalICS_Website/Data/ICSBGCs/GCA_000001985.1/Cluster_1/1_Talaromyces_marneffei.gff'\n",
    "domains = r'./Data/SupTable4.tsv'\n",
    "domainsDF = pd.read_csv(domains, sep='\\t')\n",
    "\n",
    "gffDF = pd.read_csv(gffBGC, sep='\\t', names = ['contig','source','featureType','start','stop','n1','dir','n2','info'])\n",
    "\n",
    "\n",
    "#subfunction that defines the color of the gene arrows\n",
    "def GetColor(domains):\n",
    "    colorDictionary = {\"MultiDomain\": \"#F94144\",\n",
    "    \"ICS\": \"#90BE6D\",\n",
    "    \"MFS\": \"#F3722C\",\n",
    "    \"p450\": \"#F8961E\",\n",
    "    \"Isocyanide hydratase\": \"#43AA8B\",\n",
    "    \"No domain\": \"#577590\",\n",
    "    \"Other\": \"#F9C74F\"}\n",
    "\n",
    "    #Rules, if there is an ICS, always color that color. Otherwise if it's multidomain, default to that \n",
    "    #no domain\n",
    "    if len(domains) == 0:\n",
    "        return colorDictionary[\"No domain\"]\n",
    "    #ics\n",
    "    if \"DIT1_PvcA\" in domains:\n",
    "        return colorDictionary[\"ICS\"]\n",
    "    #multidomain\n",
    "    if len(domains) > 1:\n",
    "        return colorDictionary['MultiDomain']\n",
    "    #other specified domains\n",
    "    if \"MFS\" in domains:\n",
    "        return colorDictionary['MFS']\n",
    "    elif \"p450\" in domains:\n",
    "        return colorDictionary['p450']\n",
    "    elif \"DJ-1_PfpI\" in domains:\n",
    "        return colorDictionary[\"Isocyanide hydratase\"]\n",
    "    else:\n",
    "        return colorDictionary['Other']\n",
    "\n",
    "\n",
    "#subfunction to get the names and proteins\n",
    "def CreateGeneMapping(gffDF):\n",
    "    bgcMapping = {}\n",
    "    genesOnly = gffDF[gffDF['featureType'] == \"gene\"]\n",
    "    for index, row in genesOnly.iterrows():\n",
    "        #gathering all of the information\n",
    "        geneStart = row['start']\n",
    "        geneStop = row['stop']\n",
    "        geneName = row['info'].split(\";\")[0].split(\"gene-\")[-1]\n",
    "        direction = row['dir']\n",
    "        cdsRegions = gffDF[gffDF['info'].str.contains(geneName)]\n",
    "        if len(cdsRegions) == 0:\n",
    "            pdb.set_trace()\n",
    "        topCDS_info = cdsRegions.iloc[0,8]\n",
    "        proteinName = topCDS_info.split(\"protein_id=\")[-1]\n",
    "        #getting the domains in this protein\n",
    "        domainsInProtein = domainsDF[domainsDF['Protein'] == proteinName]\n",
    "        if len(domainsInProtein) == 0:\n",
    "            pdb.set_trace()\n",
    "        domains = domainsInProtein['Domain'].unique().tolist()\n",
    "        color = GetColor(domains)\n",
    "\n",
    "        #adding this to the mapping dictionary\n",
    "        bgcMapping[geneName] = {\"start\": geneStart,\"stop\":geneStop,\"proteinName\":proteinName,\"domains\":domains, \"dir\":direction, \"color\": color}\n",
    "    #returning the results\n",
    "    return bgcMapping\n",
    "\n",
    "\n",
    "#main function to creat the gffDF visualization\n",
    "def CreateBGC_Vis(gffDF, bgcSequence, bgcName, clusterPath):\n",
    "    bgcMapping = CreateGeneMapping(gffDF)\n",
    "\n",
    "    features = []\n",
    "    for gene in bgcMapping:\n",
    "        #loading all of the data from the mapping file\n",
    "        start = bgcMapping['start']\n",
    "        stop = bgcMapping['stop']\n",
    "        protName = bgcMapping['proteinName']\n",
    "        direction_str = bgcMapping[\"dir\"]\n",
    "        geneColor = bgcMapping[\"color\"]\n",
    "        if direction_str == \"+\":\n",
    "            direction = +1\n",
    "        else:\n",
    "            direction = -1\n",
    "\n",
    "        domains = \", \".join(bgcMapping['domains'])\n",
    "        features.append(GraphicFeature(start=start, end=stop, strand=direction, color=geneColor, html=domains))\n",
    "    #making the record object\n",
    "    seqLength = len(bgcSequence)\n",
    "    record = GraphicRecord(sequence=bgcSequence, features=features)\n",
    "    plot = record.plot_with_bokeh(figure_width=8, figure_height=\"auto\")\n",
    "    #saving this as an html file\n",
    "    htmlOutput = os.path.join(clusterPath, bgcName + \".html\")\n",
    "    html = file_html(plot, CDN, title=bgcName)\n",
    "    with open(htmlOutput, \"w\") as out:\n",
    "        out.write(html)\n",
    "\n",
    "\n",
    "\n",
    "#the wrapper function that loops over all the data\n",
    "def LoopOverBGCs(rootDir):\n",
    "    for accession in os.listdir(rootDir):\n",
    "        accPath = os.path.join(rootDir, accession)\n",
    "        for cluster in os.listdir(accPath):\n",
    "            clusterPath = os.path.join(accPath, cluster)\n",
    "            if os.path.isdir(clusterPath) and cluster.startswith(\"Cluster\"):\n",
    "                #getting the name and file location, this will get passed onto the visualizer program\n",
    "                clusterName = \"\"\n",
    "                gffFile = \"\"\n",
    "                for bgcFile in os.listdir(clusterPath):\n",
    "                    if not bgcFile.startswith(\".\"):\n",
    "                        if bgcFile.endsWith(\".gff\"):\n",
    "                            gffFile = os.path.join(clusterPath, bgcFile)\n",
    "                        elif bgcFile.endsWith(\".gbk\"):\n",
    "                            clusterName = bgcFile.split(\".gb\")[0]\n",
    "                        elif bgcFile.endsWith(\".fna\"):\n",
    "                            # Open the FASTA file and read the first sequence\n",
    "                            fnaPath = os.path.join(clusterPath, bgcFile)\n",
    "                            record = next(SeqIO.parse(fnaPath , \"fasta\"))\n",
    "                            # Extract the sequence as a string\n",
    "                            pdb.set_trace()\n",
    "                            bgcSequence = str(record.seq)\n",
    "\n",
    "                #running the visualiztion program\n",
    "                gffDF = pd.read_csv(gffFile, sep='\\t', names = ['contig','source','featureType','start','stop','n1','dir','n2','info'])\n",
    "                pdb.set_trace()\n",
    "                CreateBGC_Vis(gffDF, bgcSequence, bgcName, clusterPath)\n",
    "\n",
    "\n",
    "\n",
    "\n",
    "if __name__ == '__main__':\n",
    "    rootDir = r'/Users/gnickles/Desktop/FungalICS_Website/Data/ICSBGCs'\n",
    "    LoopOverBGC(rootDir)\n",
    "\n"
   ]
  }
 ],
 "metadata": {
  "kernelspec": {
   "display_name": "Seaborn",
   "language": "python",
   "name": "python3"
  },
  "language_info": {
   "codemirror_mode": {
    "name": "ipython",
    "version": 3
   },
   "file_extension": ".py",
   "mimetype": "text/x-python",
   "name": "python",
   "nbconvert_exporter": "python",
   "pygments_lexer": "ipython3",
   "version": "3.9.16"
  },
  "orig_nbformat": 4
 },
 "nbformat": 4,
 "nbformat_minor": 2
}
