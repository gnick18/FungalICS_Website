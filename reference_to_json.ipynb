{
 "cells": [
  {
   "cell_type": "code",
   "execution_count": 3,
   "metadata": {},
   "outputs": [],
   "source": [
    "from collections import defaultdict\n",
    "import json\n",
    "import pandas as pd"
   ]
  },
  {
   "cell_type": "code",
   "execution_count": 4,
   "metadata": {},
   "outputs": [],
   "source": [
    "references = pd.read_csv('Data/ReferenceTable.tsv', sep='\\t')"
   ]
  },
  {
   "cell_type": "code",
   "execution_count": 9,
   "metadata": {},
   "outputs": [
    {
     "data": {
      "text/plain": [
       "defaultdict(list,\n",
       "            {'1_Refined': ['639_Penicillium_flavigenum',\n",
       "              '166_Bipolaris_sorokiniana'],\n",
       "             '4_Refined': ['1007_Colletotrichum_tanaceti',\n",
       "              '1163_Plenodomus_tracheiphilus'],\n",
       "             '5_Refined': ['281_Metarhizium_anisopliae'],\n",
       "             '6_Refined': ['1571_Fusarium_proliferatum',\n",
       "              '17_Uncinocarpus_reesii',\n",
       "              '3152_Boeremia_exigua'],\n",
       "             '7_Refined': ['432_Blastomyces_silverae'],\n",
       "             '8_Refined': ['116_Fusarium_odoratissimum'],\n",
       "             '9_Refined': ['3636_Aspergillus_niger'],\n",
       "             'crm_Refined': ['318_Metarhizium_anisopliae',\n",
       "              '930_Alternaria_tenuissima',\n",
       "              '330_Fonsecaea_pedrosoi'],\n",
       "             'dit (Clan 1)_Refined': ['1210_Saccharomyces_pastorianus'],\n",
       "             'dit (Clan 2)_Refined': ['1607_Claviceps_purpurea'],\n",
       "             'dit (Clan 3)_Refined': ['1337_Colletotrichum_viniferum',\n",
       "              '499_Alternaria_alternata'],\n",
       "             'xan_Refined': ['7_Aspergillus_fumigatus',\n",
       "              '3792_Fusarium_proliferatum']})"
      ]
     },
     "execution_count": 9,
     "metadata": {},
     "output_type": "execute_result"
    }
   ],
   "source": [
    "# make our dictionary\n",
    "reference_dict = defaultdict(list)\n",
    "for index, row in references.iterrows():\n",
    "    reference_dict[row['GCF']].append(row['BGC_Name'])\n",
    "\n",
    "reference_dict"
   ]
  },
  {
   "cell_type": "code",
   "execution_count": null,
   "metadata": {},
   "outputs": [],
   "source": [
    "with open('Data/ReferenceTable.json', 'w+') as f:\n",
    "    json.dump(reference_dict, f)"
   ]
  }
 ],
 "metadata": {
  "kernelspec": {
   "display_name": "base",
   "language": "python",
   "name": "python3"
  },
  "language_info": {
   "codemirror_mode": {
    "name": "ipython",
    "version": 3
   },
   "file_extension": ".py",
   "mimetype": "text/x-python",
   "name": "python",
   "nbconvert_exporter": "python",
   "pygments_lexer": "ipython3",
   "version": "3.9.13"
  },
  "orig_nbformat": 4
 },
 "nbformat": 4,
 "nbformat_minor": 2
}
