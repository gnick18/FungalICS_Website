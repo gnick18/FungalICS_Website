{
 "cells": [
  {
   "cell_type": "code",
   "execution_count": 1,
   "metadata": {},
   "outputs": [],
   "source": [
    "import json\n",
    "import os\n",
    "import shutil\n",
    "\n",
    "gcf_zip_dir = os.path.join(os.getcwd(), \"Data/GCF_zips\")\n",
    "data_dir = os.path.join(os.getcwd(), \"Data/ICSBGCs/\")\n",
    "\n",
    "os.mkdir(gcf_zip_dir)\n",
    "with open(\"Data/GCF_Keys.json\", \"r\") as f:\n",
    "    data = json.load(f)\n",
    "\n",
    "for gcf in data:\n",
    "    gcf_dir = gcf.replace(\"*\", \"_Refined\")\n",
    "    gcf_path = os.path.join(gcf_zip_dir, gcf_dir)\n",
    "    os.mkdir(gcf_path)\n",
    "    for cluster in data[gcf]:\n",
    "        cluster_folder = \"Cluster_\" + cluster['Cluster_Name'].split('_')[0]\n",
    "        accession = cluster['NCBI_Acession']\n",
    "        shutil.copytree(os.path.join(data_dir, accession, cluster_folder),\n",
    "                    os.path.join(gcf_path, cluster_folder))\n",
    "    os.chdir(gcf_zip_dir)\n",
    "    shutil.make_archive(gcf_dir, \"zip\", gcf_path)\n",
    "    shutil.rmtree(gcf_path)"
   ]
  }
 ],
 "metadata": {
  "kernelspec": {
   "display_name": "base",
   "language": "python",
   "name": "python3"
  },
  "language_info": {
   "codemirror_mode": {
    "name": "ipython",
    "version": 3
   },
   "file_extension": ".py",
   "mimetype": "text/x-python",
   "name": "python",
   "nbconvert_exporter": "python",
   "pygments_lexer": "ipython3",
   "version": "3.9.13"
  },
  "orig_nbformat": 4
 },
 "nbformat": 4,
 "nbformat_minor": 2
}
