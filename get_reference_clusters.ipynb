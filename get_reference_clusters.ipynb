{
 "cells": [
  {
   "cell_type": "code",
   "execution_count": 5,
   "metadata": {},
   "outputs": [
    {
     "data": {
      "text/plain": [
       "{'1_Refined_1': 639,\n",
       " 'crm_Refined_1': 318,\n",
       " '5': 52,\n",
       " 'xan_1': 7,\n",
       " '9_Refined': 3636,\n",
       " '6_Refined_1': 17,\n",
       " '7_Refined': 432,\n",
       " '13': 19,\n",
       " '14': 454,\n",
       " '15': 577,\n",
       " 'dit (Clan 1)': 1210,\n",
       " '19': 3264,\n",
       " '6_Refined_2': 1571,\n",
       " '8_Refined': 116,\n",
       " 'crm_Refined_2': 930,\n",
       " '26': 216,\n",
       " '5_Refined': 281,\n",
       " 'dit (Clan 2)_Refined': 1607,\n",
       " '42': 1409,\n",
       " 'dit (Clan 3)_Refined_1': 1337,\n",
       " '44': 1106,\n",
       " '47': 898,\n",
       " 'dit (Clan 3)_Refined_2': 499,\n",
       " '1_Refined_2': 166,\n",
       " '4_Refined_2': 1007,\n",
       " 'crm_Refined_3': 330,\n",
       " '83': 1459,\n",
       " '6_Refined_3': 3152,\n",
       " '119': 595,\n",
       " 'xan_Refined_2': 3792}"
      ]
     },
     "execution_count": 5,
     "metadata": {},
     "output_type": "execute_result"
    }
   ],
   "source": [
    "import pandas as pd\n",
    "\n",
    "params = pd.read_csv(\"Data/cBlasters/ParametersRan.csv\")\n",
    "\n",
    "dict(params[['HTML_Name', 'Reference_Cluster']].values)"
   ]
  }
 ],
 "metadata": {
  "kernelspec": {
   "display_name": "base",
   "language": "python",
   "name": "python3"
  },
  "language_info": {
   "codemirror_mode": {
    "name": "ipython",
    "version": 3
   },
   "file_extension": ".py",
   "mimetype": "text/x-python",
   "name": "python",
   "nbconvert_exporter": "python",
   "pygments_lexer": "ipython3",
   "version": "3.9.13"
  },
  "orig_nbformat": 4
 },
 "nbformat": 4,
 "nbformat_minor": 2
}
