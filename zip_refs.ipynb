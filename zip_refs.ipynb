{
 "cells": [
  {
   "cell_type": "code",
   "execution_count": 3,
   "metadata": {},
   "outputs": [
    {
     "name": "stdout",
     "output_type": "stream",
     "text": [
      "639_Penicillium_flavigenum 1_Refined\n",
      "166_Bipolaris_sorokiniana 1_Refined\n",
      "1007_Colletotrichum_tanaceti 4_Refined\n",
      "1163_Plenodomus_tracheiphilus 4_Refined\n",
      "281_Metarhizium_anisopliae 5_Refined\n",
      "1571_Fusarium_proliferatum 6_Refined\n",
      "17_Uncinocarpus_reesii 6_Refined\n",
      "3152_Boeremia_exigua 6_Refined\n",
      "432_Blastomyces_silverae 7_Refined\n",
      "116_Fusarium_odoratissimum 8_Refined\n",
      "3636_Aspergillus_niger 9_Refined\n",
      "318_Metarhizium_anisopliae crm_Refined\n",
      "930_Alternaria_tenuissima crm_Refined\n",
      "330_Fonsecaea_pedrosoi crm_Refined\n",
      "1210_Saccharomyces_pastorianus dit (Clan 1)_Refined\n",
      "1607_Claviceps_purpurea dit (Clan 2)_Refined\n",
      "1337_Colletotrichum_viniferum dit (Clan 3)_Refined\n",
      "499_Alternaria_alternata dit (Clan 3)_Refined\n",
      "7_Aspergillus_fumigatus xan_Refined\n",
      "3792_Fusarium_proliferatum xan_Refined\n"
     ]
    }
   ],
   "source": [
    "import json\n",
    "import os\n",
    "import shutil\n",
    "\n",
    "ref_zip_dir = os.path.join(os.getcwd(), \"Data/GCF_References\")\n",
    "data_dir = os.path.join(os.getcwd(), \"Data/ICSBGCs/\")\n",
    "\n",
    "with open(\"Data/ReferenceTable.json\") as f:\n",
    "    gcf_to_clusters = json.load(f)\n",
    "\n",
    "with open(\"Data/RefClusterToAccession.json\") as f:\n",
    "    cluster_to_accession = json.load(f)\n",
    "\n",
    "for gcf in gcf_to_clusters:\n",
    "    ref_path = os.path.join(ref_zip_dir, gcf)\n",
    "    for cluster in gcf_to_clusters[gcf]:\n",
    "        # print(cluster, gcf)\n",
    "        cluster_folder = \"Cluster_\" + cluster.split('_')[0]\n",
    "        accession = cluster_to_accession[cluster]\n",
    "        shutil.copytree(os.path.join(data_dir, accession, cluster_folder),\n",
    "                        os.path.join(ref_path, cluster_folder))\n",
    "    os.chdir(ref_zip_dir)\n",
    "    shutil.make_archive(gcf, \"zip\", ref_path)\n",
    "    shutil.rmtree(ref_path)"
   ]
  }
 ],
 "metadata": {
  "kernelspec": {
   "display_name": "base",
   "language": "python",
   "name": "python3"
  },
  "language_info": {
   "codemirror_mode": {
    "name": "ipython",
    "version": 3
   },
   "file_extension": ".py",
   "mimetype": "text/x-python",
   "name": "python",
   "nbconvert_exporter": "python",
   "pygments_lexer": "ipython3",
   "version": "3.9.13"
  },
  "orig_nbformat": 4
 },
 "nbformat": 4,
 "nbformat_minor": 2
}
