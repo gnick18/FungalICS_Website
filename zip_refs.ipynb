{
 "cells": [
  {
   "cell_type": "code",
   "execution_count": 4,
   "metadata": {},
   "outputs": [],
   "source": [
    "import json\n",
    "import os\n",
    "import shutil\n",
    "\n",
    "ref_zip_dir = os.path.join(os.getcwd(), \"Data/GCF_References\")\n",
    "data_dir = os.path.join(os.getcwd(), \"Data/ICSBGCs/\")\n",
    "\n",
    "with open(\"Data/ReferenceTable.json\") as f:\n",
    "    gcf_to_clusters = json.load(f)\n",
    "\n",
    "with open(\"Data/RefClusterToAccession.json\") as f:\n",
    "    cluster_to_accession = json.load(f)\n",
    "\n",
    "for gcf in gcf_to_clusters:\n",
    "    ref_path = os.path.join(ref_zip_dir, gcf)\n",
    "    for cluster in gcf_to_clusters[gcf]:\n",
    "        # print(cluster, gcf)\n",
    "        cluster_folder = \"Cluster_\" + cluster.split('_')[0]\n",
    "        accession = cluster_to_accession[cluster]\n",
    "        shutil.copytree(os.path.join(data_dir, accession, cluster_folder),\n",
    "                        os.path.join(ref_path, cluster_folder))\n",
    "    os.chdir(ref_zip_dir)\n",
    "    shutil.make_archive(gcf, \"zip\", ref_path)\n",
    "    shutil.rmtree(ref_path)"
   ]
  }
 ],
 "metadata": {
  "kernelspec": {
   "display_name": "base",
   "language": "python",
   "name": "python3"
  },
  "language_info": {
   "codemirror_mode": {
    "name": "ipython",
    "version": 3
   },
   "file_extension": ".py",
   "mimetype": "text/x-python",
   "name": "python",
   "nbconvert_exporter": "python",
   "pygments_lexer": "ipython3",
   "version": "3.9.13"
  },
  "orig_nbformat": 4
 },
 "nbformat": 4,
 "nbformat_minor": 2
}
